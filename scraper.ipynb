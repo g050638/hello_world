{
 "cells": [
  {
   "cell_type": "code",
   "execution_count": 6,
   "id": "343f8895-2d02-4513-be14-e85369bb08e8",
   "metadata": {},
   "outputs": [],
   "source": [
    "import nest_asyncio\n",
    "import asyncio\n",
    "from playwright.async_api import async_playwright\n",
    "import pandas as pd\n",
    "import time"
   ]
  },
  {
   "cell_type": "code",
   "execution_count": 11,
   "id": "a706d1a3-3cfe-4dc5-83e6-67e0cfb261d7",
   "metadata": {},
   "outputs": [
    {
     "ename": "TimeoutException",
     "evalue": "Message: \nStacktrace:\n\tGetHandleVerifier [0x00007FF79A06CF45+75717]\n\tGetHandleVerifier [0x00007FF79A06CFA0+75808]\n\t(No symbol) [0x00007FF799E38F9A]\n\t(No symbol) [0x00007FF799E8F4C6]\n\t(No symbol) [0x00007FF799E8F77C]\n\t(No symbol) [0x00007FF799EE2577]\n\t(No symbol) [0x00007FF799EB73BF]\n\t(No symbol) [0x00007FF799EDF39C]\n\t(No symbol) [0x00007FF799EB7153]\n\t(No symbol) [0x00007FF799E80421]\n\t(No symbol) [0x00007FF799E811B3]\n\tGetHandleVerifier [0x00007FF79A36D71D+3223453]\n\tGetHandleVerifier [0x00007FF79A367CC2+3200322]\n\tGetHandleVerifier [0x00007FF79A385AF3+3322739]\n\tGetHandleVerifier [0x00007FF79A086A1A+180890]\n\tGetHandleVerifier [0x00007FF79A08E11F+211359]\n\tGetHandleVerifier [0x00007FF79A075294+109332]\n\tGetHandleVerifier [0x00007FF79A075442+109762]\n\tGetHandleVerifier [0x00007FF79A05BA59+4825]\n\tBaseThreadInitThunk [0x00007FFFD79FE8D7+23]\n\tRtlUserThreadStart [0x00007FFFD8BFC5DC+44]\n",
     "output_type": "error",
     "traceback": [
      "\u001b[1;31m---------------------------------------------------------------------------\u001b[0m",
      "\u001b[1;31mTimeoutException\u001b[0m                          Traceback (most recent call last)",
      "Cell \u001b[1;32mIn[11], line 12\u001b[0m\n\u001b[0;32m      9\u001b[0m wait \u001b[38;5;241m=\u001b[39m WebDriverWait(driver, \u001b[38;5;241m15\u001b[39m)\n\u001b[0;32m     11\u001b[0m \u001b[38;5;66;03m# 1. Click the input field to open the dropdown\u001b[39;00m\n\u001b[1;32m---> 12\u001b[0m input_field \u001b[38;5;241m=\u001b[39m wait\u001b[38;5;241m.\u001b[39muntil(EC\u001b[38;5;241m.\u001b[39melement_to_be_clickable((By\u001b[38;5;241m.\u001b[39mCSS_SELECTOR, \u001b[38;5;124m'\u001b[39m\u001b[38;5;124minput[data-testid=\u001b[39m\u001b[38;5;124m\"\u001b[39m\u001b[38;5;124msearch-input\u001b[39m\u001b[38;5;124m\"\u001b[39m\u001b[38;5;124m]\u001b[39m\u001b[38;5;124m'\u001b[39m)))\n\u001b[0;32m     13\u001b[0m input_field\u001b[38;5;241m.\u001b[39mclick()\n\u001b[0;32m     15\u001b[0m \u001b[38;5;66;03m# 2. Wait for the dropdown options to appear\u001b[39;00m\n",
      "File \u001b[1;32mC:\\ProgramData\\anaconda3\\Lib\\site-packages\\selenium\\webdriver\\support\\wait.py:138\u001b[0m, in \u001b[0;36mWebDriverWait.until\u001b[1;34m(self, method, message)\u001b[0m\n\u001b[0;32m    136\u001b[0m         \u001b[38;5;28;01mbreak\u001b[39;00m\n\u001b[0;32m    137\u001b[0m     time\u001b[38;5;241m.\u001b[39msleep(\u001b[38;5;28mself\u001b[39m\u001b[38;5;241m.\u001b[39m_poll)\n\u001b[1;32m--> 138\u001b[0m \u001b[38;5;28;01mraise\u001b[39;00m TimeoutException(message, screen, stacktrace)\n",
      "\u001b[1;31mTimeoutException\u001b[0m: Message: \nStacktrace:\n\tGetHandleVerifier [0x00007FF79A06CF45+75717]\n\tGetHandleVerifier [0x00007FF79A06CFA0+75808]\n\t(No symbol) [0x00007FF799E38F9A]\n\t(No symbol) [0x00007FF799E8F4C6]\n\t(No symbol) [0x00007FF799E8F77C]\n\t(No symbol) [0x00007FF799EE2577]\n\t(No symbol) [0x00007FF799EB73BF]\n\t(No symbol) [0x00007FF799EDF39C]\n\t(No symbol) [0x00007FF799EB7153]\n\t(No symbol) [0x00007FF799E80421]\n\t(No symbol) [0x00007FF799E811B3]\n\tGetHandleVerifier [0x00007FF79A36D71D+3223453]\n\tGetHandleVerifier [0x00007FF79A367CC2+3200322]\n\tGetHandleVerifier [0x00007FF79A385AF3+3322739]\n\tGetHandleVerifier [0x00007FF79A086A1A+180890]\n\tGetHandleVerifier [0x00007FF79A08E11F+211359]\n\tGetHandleVerifier [0x00007FF79A075294+109332]\n\tGetHandleVerifier [0x00007FF79A075442+109762]\n\tGetHandleVerifier [0x00007FF79A05BA59+4825]\n\tBaseThreadInitThunk [0x00007FFFD79FE8D7+23]\n\tRtlUserThreadStart [0x00007FFFD8BFC5DC+44]\n"
     ]
    }
   ],
   "source": [
    "from selenium import webdriver\n",
    "from selenium.webdriver.common.by import By\n",
    "from selenium.webdriver.support.ui import WebDriverWait\n",
    "from selenium.webdriver.support import expected_conditions as EC\n",
    "\n",
    "driver = webdriver.Chrome()\n",
    "driver.get(\"https://preply.com/en/online/english-tutors\")\n",
    "\n",
    "wait = WebDriverWait(driver, 15)\n",
    "\n",
    "# 1. Click the input field to open the dropdown\n",
    "input_field = wait.until(EC.element_to_be_clickable((By.CSS_SELECTOR, 'input[data-testid=\"search-input\"]')))\n",
    "input_field.click()\n",
    "\n",
    "# 2. Wait for the dropdown options to appear\n",
    "options = wait.until(EC.presence_of_all_elements_located((By.CSS_SELECTOR, 'div[role=\"listbox\"] div[role=\"option\"]')))\n",
    "\n",
    "# 3. Extract category and teacher count from each option\n",
    "categories = []\n",
    "teacher_counts = []\n",
    "for option in options:\n",
    "    text = option.text.strip()\n",
    "    if text:\n",
    "        # Example: \"English 5,000 teachers available\"\n",
    "        if \"teachers available\" in text:\n",
    "            *category_parts, count, _, _ = text.split()\n",
    "            category = \" \".join(category_parts)\n",
    "            categories.append(category)\n",
    "            teacher_counts.append(count.replace(',', ''))\n",
    "\n",
    "# Print or save your results\n",
    "for cat, cnt in zip(categories, teacher_counts):\n",
    "    print(f\"{cat}: {cnt} teachers available\")\n",
    "\n",
    "driver.quit()\n"
   ]
  },
  {
   "cell_type": "code",
   "execution_count": null,
   "id": "a08f6a61-a718-42a4-8463-eb78d12d8c24",
   "metadata": {},
   "outputs": [],
   "source": []
  }
 ],
 "metadata": {
  "kernelspec": {
   "display_name": "Python 3 (ipykernel)",
   "language": "python",
   "name": "python3"
  },
  "language_info": {
   "codemirror_mode": {
    "name": "ipython",
    "version": 3
   },
   "file_extension": ".py",
   "mimetype": "text/x-python",
   "name": "python",
   "nbconvert_exporter": "python",
   "pygments_lexer": "ipython3",
   "version": "3.12.7"
  }
 },
 "nbformat": 4,
 "nbformat_minor": 5
}
